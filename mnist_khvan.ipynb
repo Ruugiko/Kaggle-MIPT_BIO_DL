{
 "cells": [
  {
   "cell_type": "code",
   "execution_count": 1,
   "metadata": {},
   "outputs": [
    {
     "name": "stderr",
     "output_type": "stream",
     "text": [
      "2024-05-12 18:47:04.547828: I external/local_tsl/tsl/cuda/cudart_stub.cc:32] Could not find cuda drivers on your machine, GPU will not be used.\n",
      "2024-05-12 18:47:04.550882: I external/local_tsl/tsl/cuda/cudart_stub.cc:32] Could not find cuda drivers on your machine, GPU will not be used.\n",
      "2024-05-12 18:47:04.589200: I tensorflow/core/platform/cpu_feature_guard.cc:210] This TensorFlow binary is optimized to use available CPU instructions in performance-critical operations.\n",
      "To enable the following instructions: AVX2 FMA, in other operations, rebuild TensorFlow with the appropriate compiler flags.\n",
      "2024-05-12 18:47:05.265271: W tensorflow/compiler/tf2tensorrt/utils/py_utils.cc:38] TF-TRT Warning: Could not find TensorRT\n"
     ]
    }
   ],
   "source": [
    "import pandas as pd\n",
    "import numpy as np\n",
    "import matplotlib.pyplot as plt\n",
    "import seaborn as sns\n",
    "import tensorflow as tf\n",
    "from tensorflow.keras.models import Sequential\n",
    "from tensorflow.keras.layers import Dense\n",
    "from keras.callbacks import ReduceLROnPlateau, EarlyStopping\n",
    "from sklearn.metrics import classification_report\n",
    "from sklearn.model_selection import train_test_split\n"
   ]
  },
  {
   "cell_type": "code",
   "execution_count": 2,
   "metadata": {},
   "outputs": [
    {
     "name": "stdout",
     "output_type": "stream",
     "text": [
      "2.16.1\n"
     ]
    }
   ],
   "source": [
    "print(tf.__version__)"
   ]
  },
  {
   "cell_type": "code",
   "execution_count": 3,
   "metadata": {},
   "outputs": [
    {
     "name": "stdout",
     "output_type": "stream",
     "text": [
      "(17040, 786)\n",
      "(10000, 785)\n"
     ]
    }
   ],
   "source": [
    "train = pd.read_csv('data/fmnist_train.csv')\n",
    "\n",
    "val = pd.read_csv('data/fmnist_test.csv')\n",
    "print(train.shape, val.shape, sep='\\n')"
   ]
  },
  {
   "cell_type": "code",
   "execution_count": 4,
   "metadata": {},
   "outputs": [
    {
     "data": {
      "text/html": [
       "<div>\n",
       "<style scoped>\n",
       "    .dataframe tbody tr th:only-of-type {\n",
       "        vertical-align: middle;\n",
       "    }\n",
       "\n",
       "    .dataframe tbody tr th {\n",
       "        vertical-align: top;\n",
       "    }\n",
       "\n",
       "    .dataframe thead th {\n",
       "        text-align: right;\n",
       "    }\n",
       "</style>\n",
       "<table border=\"1\" class=\"dataframe\">\n",
       "  <thead>\n",
       "    <tr style=\"text-align: right;\">\n",
       "      <th></th>\n",
       "      <th>label</th>\n",
       "      <th>pixel1</th>\n",
       "      <th>pixel2</th>\n",
       "      <th>pixel3</th>\n",
       "      <th>pixel4</th>\n",
       "      <th>pixel5</th>\n",
       "      <th>pixel6</th>\n",
       "      <th>pixel7</th>\n",
       "      <th>pixel8</th>\n",
       "      <th>pixel9</th>\n",
       "      <th>...</th>\n",
       "      <th>pixel776</th>\n",
       "      <th>pixel777</th>\n",
       "      <th>pixel778</th>\n",
       "      <th>pixel779</th>\n",
       "      <th>pixel780</th>\n",
       "      <th>pixel781</th>\n",
       "      <th>pixel782</th>\n",
       "      <th>pixel783</th>\n",
       "      <th>pixel784</th>\n",
       "      <th>Id</th>\n",
       "    </tr>\n",
       "  </thead>\n",
       "  <tbody>\n",
       "    <tr>\n",
       "      <th>count</th>\n",
       "      <td>17040.000000</td>\n",
       "      <td>17040.000000</td>\n",
       "      <td>17040.000000</td>\n",
       "      <td>17040.000000</td>\n",
       "      <td>17040.000000</td>\n",
       "      <td>17040.000000</td>\n",
       "      <td>17040.000000</td>\n",
       "      <td>17040.000000</td>\n",
       "      <td>17040.000000</td>\n",
       "      <td>17040.000000</td>\n",
       "      <td>...</td>\n",
       "      <td>17039.000000</td>\n",
       "      <td>17039.000000</td>\n",
       "      <td>17039.000000</td>\n",
       "      <td>17039.000000</td>\n",
       "      <td>17039.000000</td>\n",
       "      <td>17039.000000</td>\n",
       "      <td>17039.000000</td>\n",
       "      <td>17039.000000</td>\n",
       "      <td>17039.000000</td>\n",
       "      <td>17040.000000</td>\n",
       "    </tr>\n",
       "    <tr>\n",
       "      <th>mean</th>\n",
       "      <td>4.486913</td>\n",
       "      <td>0.002347</td>\n",
       "      <td>0.005869</td>\n",
       "      <td>0.028991</td>\n",
       "      <td>0.114495</td>\n",
       "      <td>0.233275</td>\n",
       "      <td>0.372946</td>\n",
       "      <td>0.725352</td>\n",
       "      <td>2.167077</td>\n",
       "      <td>5.751995</td>\n",
       "      <td>...</td>\n",
       "      <td>23.532308</td>\n",
       "      <td>16.799519</td>\n",
       "      <td>17.331886</td>\n",
       "      <td>22.342332</td>\n",
       "      <td>17.985328</td>\n",
       "      <td>8.849111</td>\n",
       "      <td>2.964435</td>\n",
       "      <td>0.961265</td>\n",
       "      <td>0.088738</td>\n",
       "      <td>8519.500000</td>\n",
       "    </tr>\n",
       "    <tr>\n",
       "      <th>std</th>\n",
       "      <td>2.881984</td>\n",
       "      <td>0.172991</td>\n",
       "      <td>0.209439</td>\n",
       "      <td>0.621885</td>\n",
       "      <td>2.630319</td>\n",
       "      <td>4.060619</td>\n",
       "      <td>5.337305</td>\n",
       "      <td>7.395038</td>\n",
       "      <td>13.906113</td>\n",
       "      <td>24.238699</td>\n",
       "      <td>...</td>\n",
       "      <td>48.730232</td>\n",
       "      <td>41.825340</td>\n",
       "      <td>43.064804</td>\n",
       "      <td>51.111173</td>\n",
       "      <td>45.379001</td>\n",
       "      <td>30.228846</td>\n",
       "      <td>18.003959</td>\n",
       "      <td>9.866697</td>\n",
       "      <td>2.342414</td>\n",
       "      <td>4919.168629</td>\n",
       "    </tr>\n",
       "    <tr>\n",
       "      <th>min</th>\n",
       "      <td>0.000000</td>\n",
       "      <td>0.000000</td>\n",
       "      <td>0.000000</td>\n",
       "      <td>0.000000</td>\n",
       "      <td>0.000000</td>\n",
       "      <td>0.000000</td>\n",
       "      <td>0.000000</td>\n",
       "      <td>0.000000</td>\n",
       "      <td>0.000000</td>\n",
       "      <td>0.000000</td>\n",
       "      <td>...</td>\n",
       "      <td>0.000000</td>\n",
       "      <td>0.000000</td>\n",
       "      <td>0.000000</td>\n",
       "      <td>0.000000</td>\n",
       "      <td>0.000000</td>\n",
       "      <td>0.000000</td>\n",
       "      <td>0.000000</td>\n",
       "      <td>0.000000</td>\n",
       "      <td>0.000000</td>\n",
       "      <td>0.000000</td>\n",
       "    </tr>\n",
       "    <tr>\n",
       "      <th>25%</th>\n",
       "      <td>2.000000</td>\n",
       "      <td>0.000000</td>\n",
       "      <td>0.000000</td>\n",
       "      <td>0.000000</td>\n",
       "      <td>0.000000</td>\n",
       "      <td>0.000000</td>\n",
       "      <td>0.000000</td>\n",
       "      <td>0.000000</td>\n",
       "      <td>0.000000</td>\n",
       "      <td>0.000000</td>\n",
       "      <td>...</td>\n",
       "      <td>0.000000</td>\n",
       "      <td>0.000000</td>\n",
       "      <td>0.000000</td>\n",
       "      <td>0.000000</td>\n",
       "      <td>0.000000</td>\n",
       "      <td>0.000000</td>\n",
       "      <td>0.000000</td>\n",
       "      <td>0.000000</td>\n",
       "      <td>0.000000</td>\n",
       "      <td>4259.750000</td>\n",
       "    </tr>\n",
       "    <tr>\n",
       "      <th>50%</th>\n",
       "      <td>5.000000</td>\n",
       "      <td>0.000000</td>\n",
       "      <td>0.000000</td>\n",
       "      <td>0.000000</td>\n",
       "      <td>0.000000</td>\n",
       "      <td>0.000000</td>\n",
       "      <td>0.000000</td>\n",
       "      <td>0.000000</td>\n",
       "      <td>0.000000</td>\n",
       "      <td>0.000000</td>\n",
       "      <td>...</td>\n",
       "      <td>0.000000</td>\n",
       "      <td>0.000000</td>\n",
       "      <td>0.000000</td>\n",
       "      <td>0.000000</td>\n",
       "      <td>0.000000</td>\n",
       "      <td>0.000000</td>\n",
       "      <td>0.000000</td>\n",
       "      <td>0.000000</td>\n",
       "      <td>0.000000</td>\n",
       "      <td>8519.500000</td>\n",
       "    </tr>\n",
       "    <tr>\n",
       "      <th>75%</th>\n",
       "      <td>7.000000</td>\n",
       "      <td>0.000000</td>\n",
       "      <td>0.000000</td>\n",
       "      <td>0.000000</td>\n",
       "      <td>0.000000</td>\n",
       "      <td>0.000000</td>\n",
       "      <td>0.000000</td>\n",
       "      <td>0.000000</td>\n",
       "      <td>0.000000</td>\n",
       "      <td>0.000000</td>\n",
       "      <td>...</td>\n",
       "      <td>11.000000</td>\n",
       "      <td>0.000000</td>\n",
       "      <td>0.000000</td>\n",
       "      <td>0.000000</td>\n",
       "      <td>0.000000</td>\n",
       "      <td>0.000000</td>\n",
       "      <td>0.000000</td>\n",
       "      <td>0.000000</td>\n",
       "      <td>0.000000</td>\n",
       "      <td>12779.250000</td>\n",
       "    </tr>\n",
       "    <tr>\n",
       "      <th>max</th>\n",
       "      <td>9.000000</td>\n",
       "      <td>16.000000</td>\n",
       "      <td>16.000000</td>\n",
       "      <td>56.000000</td>\n",
       "      <td>164.000000</td>\n",
       "      <td>217.000000</td>\n",
       "      <td>230.000000</td>\n",
       "      <td>213.000000</td>\n",
       "      <td>218.000000</td>\n",
       "      <td>254.000000</td>\n",
       "      <td>...</td>\n",
       "      <td>255.000000</td>\n",
       "      <td>254.000000</td>\n",
       "      <td>255.000000</td>\n",
       "      <td>252.000000</td>\n",
       "      <td>255.000000</td>\n",
       "      <td>250.000000</td>\n",
       "      <td>255.000000</td>\n",
       "      <td>255.000000</td>\n",
       "      <td>170.000000</td>\n",
       "      <td>17039.000000</td>\n",
       "    </tr>\n",
       "  </tbody>\n",
       "</table>\n",
       "<p>8 rows × 786 columns</p>\n",
       "</div>"
      ],
      "text/plain": [
       "              label        pixel1        pixel2        pixel3        pixel4  \\\n",
       "count  17040.000000  17040.000000  17040.000000  17040.000000  17040.000000   \n",
       "mean       4.486913      0.002347      0.005869      0.028991      0.114495   \n",
       "std        2.881984      0.172991      0.209439      0.621885      2.630319   \n",
       "min        0.000000      0.000000      0.000000      0.000000      0.000000   \n",
       "25%        2.000000      0.000000      0.000000      0.000000      0.000000   \n",
       "50%        5.000000      0.000000      0.000000      0.000000      0.000000   \n",
       "75%        7.000000      0.000000      0.000000      0.000000      0.000000   \n",
       "max        9.000000     16.000000     16.000000     56.000000    164.000000   \n",
       "\n",
       "             pixel5        pixel6        pixel7        pixel8        pixel9  \\\n",
       "count  17040.000000  17040.000000  17040.000000  17040.000000  17040.000000   \n",
       "mean       0.233275      0.372946      0.725352      2.167077      5.751995   \n",
       "std        4.060619      5.337305      7.395038     13.906113     24.238699   \n",
       "min        0.000000      0.000000      0.000000      0.000000      0.000000   \n",
       "25%        0.000000      0.000000      0.000000      0.000000      0.000000   \n",
       "50%        0.000000      0.000000      0.000000      0.000000      0.000000   \n",
       "75%        0.000000      0.000000      0.000000      0.000000      0.000000   \n",
       "max      217.000000    230.000000    213.000000    218.000000    254.000000   \n",
       "\n",
       "       ...      pixel776      pixel777      pixel778      pixel779  \\\n",
       "count  ...  17039.000000  17039.000000  17039.000000  17039.000000   \n",
       "mean   ...     23.532308     16.799519     17.331886     22.342332   \n",
       "std    ...     48.730232     41.825340     43.064804     51.111173   \n",
       "min    ...      0.000000      0.000000      0.000000      0.000000   \n",
       "25%    ...      0.000000      0.000000      0.000000      0.000000   \n",
       "50%    ...      0.000000      0.000000      0.000000      0.000000   \n",
       "75%    ...     11.000000      0.000000      0.000000      0.000000   \n",
       "max    ...    255.000000    254.000000    255.000000    252.000000   \n",
       "\n",
       "           pixel780      pixel781      pixel782      pixel783      pixel784  \\\n",
       "count  17039.000000  17039.000000  17039.000000  17039.000000  17039.000000   \n",
       "mean      17.985328      8.849111      2.964435      0.961265      0.088738   \n",
       "std       45.379001     30.228846     18.003959      9.866697      2.342414   \n",
       "min        0.000000      0.000000      0.000000      0.000000      0.000000   \n",
       "25%        0.000000      0.000000      0.000000      0.000000      0.000000   \n",
       "50%        0.000000      0.000000      0.000000      0.000000      0.000000   \n",
       "75%        0.000000      0.000000      0.000000      0.000000      0.000000   \n",
       "max      255.000000    250.000000    255.000000    255.000000    170.000000   \n",
       "\n",
       "                 Id  \n",
       "count  17040.000000  \n",
       "mean    8519.500000  \n",
       "std     4919.168629  \n",
       "min        0.000000  \n",
       "25%     4259.750000  \n",
       "50%     8519.500000  \n",
       "75%    12779.250000  \n",
       "max    17039.000000  \n",
       "\n",
       "[8 rows x 786 columns]"
      ]
     },
     "execution_count": 4,
     "metadata": {},
     "output_type": "execute_result"
    }
   ],
   "source": [
    "train.describe()"
   ]
  },
  {
   "cell_type": "markdown",
   "metadata": {},
   "source": [
    "Датасет состоит из следующих признаков:\n",
    "\n",
    "* *label* - класс изображения:\n",
    "\n",
    "    - **0** T-shirt/top – футболка\n",
    "    \n",
    "    - **1** Trouser – брюки\n",
    "    \n",
    "    - **2** Pullover – свитер\n",
    "    \n",
    "    - **3** Dress – платье\n",
    "    \n",
    "    - **4** Coat – пальто\n",
    "    \n",
    "    - **5** Sandal – сандалия\n",
    "    \n",
    "    - **6** Shirt – рубашка\n",
    "    \n",
    "    - **7** Sneaker – кроссовок\n",
    "    \n",
    "    - **8** Bag – сумка\n",
    "    \n",
    "    - **9** Ankle boot – сапог\n",
    "\n",
    "* *id* - уникальный номер\n",
    "\n",
    "* *pixel*[num] - пиксели изображения\n",
    "\n"
   ]
  },
  {
   "cell_type": "markdown",
   "metadata": {},
   "source": [
    "# Обработка"
   ]
  },
  {
   "cell_type": "markdown",
   "metadata": {},
   "source": [
    "Удалим столбцы **id**, так как они не несут полезной информации для модели.\n",
    "Но создадим df c номерами из val для конечного df с предсказаниями"
   ]
  },
  {
   "cell_type": "code",
   "execution_count": 5,
   "metadata": {},
   "outputs": [],
   "source": [
    "train = train.drop('Id', axis=1)\n",
    "sample_submission = val.pop('Id')"
   ]
  },
  {
   "cell_type": "code",
   "execution_count": 6,
   "metadata": {},
   "outputs": [],
   "source": [
    "# Функция для удаления пропущенных значений и вывода их кол-ва\n",
    "\n",
    "def remove_missing_values(name, df):\n",
    "    initial_row_count = df.shape[0]\n",
    "    df_cleaned = df.dropna()\n",
    "    removed_rows_count = initial_row_count - df_cleaned.shape[0]\n",
    "    print(f'{name}\\nКоличество удаленных строк с пропущенными значениями: {removed_rows_count}\\nРазмерность после удаления пропущенных значений: {df_cleaned.shape}')\n",
    "    return df_cleaned"
   ]
  },
  {
   "cell_type": "code",
   "execution_count": 7,
   "metadata": {},
   "outputs": [
    {
     "name": "stdout",
     "output_type": "stream",
     "text": [
      "Train\n",
      "Количество удаленных строк с пропущенными значениями: 1\n",
      "Размерность после удаления пропущенных значений: (17039, 785)\n",
      "\n",
      "Val\n",
      "Количество удаленных строк с пропущенными значениями: 0\n",
      "Размерность после удаления пропущенных значений: (10000, 784)\n"
     ]
    }
   ],
   "source": [
    "# Проведем очистку\n",
    "train_cleaned = remove_missing_values('Train', train)\n",
    "print()\n",
    "val_cleaned = remove_missing_values('Val', val)"
   ]
  },
  {
   "cell_type": "code",
   "execution_count": 8,
   "metadata": {},
   "outputs": [
    {
     "name": "stdout",
     "output_type": "stream",
     "text": [
      "(17039, 785)\n",
      "(10000, 784)\n"
     ]
    }
   ],
   "source": [
    "# Приведем данные в numpy-массив\n",
    "train_cleaned = np.array(train_cleaned, dtype = 'float32')\n",
    "val_cleaned = np.array(val_cleaned, dtype = 'float32')\n",
    "print(train_cleaned.shape, val_cleaned.shape, sep='\\n')"
   ]
  },
  {
   "cell_type": "code",
   "execution_count": 9,
   "metadata": {},
   "outputs": [],
   "source": [
    "#Разделим данные на таргет и признаки (масштабированные)\n",
    "X=train_cleaned[:,1:]/255\n",
    "y=train_cleaned[:,0]\n",
    "\n",
    "val_cleaned = val_cleaned[::]/255"
   ]
  },
  {
   "cell_type": "code",
   "execution_count": 10,
   "metadata": {},
   "outputs": [],
   "source": [
    "#Изменяем форму каждой строки в двумерный массив 28х28\n",
    "X = X.reshape(-1, 28, 28)\n",
    "val_cleaned = val_cleaned.reshape(-1, 28, 28)"
   ]
  },
  {
   "cell_type": "code",
   "execution_count": 11,
   "metadata": {},
   "outputs": [
    {
     "name": "stdout",
     "output_type": "stream",
     "text": [
      "Размер тренировочной выборки: (15335, 28, 28)\n",
      "Размер тестовой выборки: (1704, 28, 28)\n"
     ]
    }
   ],
   "source": [
    "X_train, X_test, y_train, y_test = train_test_split(X, y, test_size=0.1, random_state=42)\n",
    "print(f'Размер тренировочной выборки: {X_train.shape}\\nРазмер тестовой выборки: {X_test.shape}')"
   ]
  },
  {
   "cell_type": "code",
   "execution_count": 12,
   "metadata": {},
   "outputs": [
    {
     "data": {
      "image/png": "[encoded data removed]",
      "text/plain": [
       "<Figure size 600x300 with 10 Axes>"
      ]
     },
     "metadata": {},
     "output_type": "display_data"
    }
   ],
   "source": [
    "# Выведем изображения нескольких образцов для проверки датасета Train\n",
    "# Выбираем 10 случайных индексов изображений.\n",
    "random_indices = np.random.choice(X_train.shape[0], 10, replace=False)\n",
    "\n",
    "# Визуализация 10 случайных изображений.\n",
    "fig, axes = plt.subplots(2, 5, figsize=(6, 3)) \n",
    "for i, ax in enumerate(axes.flat):\n",
    "    ax.imshow(X_train[random_indices[i]], cmap='gray')\n",
    "    ax.axis('off')\n",
    "plt.tight_layout()\n",
    "plt.show()\n"
   ]
  },
  {
   "cell_type": "code",
   "execution_count": 13,
   "metadata": {},
   "outputs": [
    {
     "data": {
      "image/png": "[encoded data removed]",
      "text/plain": [
       "<Figure size 600x300 with 10 Axes>"
      ]
     },
     "metadata": {},
     "output_type": "display_data"
    }
   ],
   "source": [
    "# Выведем изображения нескольких образцов для проверки датасета Val\n",
    "# Выбираем 10 случайных индексов изображений.\n",
    "random_indices = np.random.choice(val_cleaned.shape[0], 10, replace=False)\n",
    "\n",
    "# Визуализация 10 случайных изображений.\n",
    "fig, axes = plt.subplots(2, 5, figsize=(6, 3)) \n",
    "for i, ax in enumerate(axes.flat):\n",
    "    ax.imshow(X_train[random_indices[i]], cmap='gray')\n",
    "    ax.axis('off')\n",
    "plt.tight_layout()\n",
    "plt.show()\n"
   ]
  },
  {
   "cell_type": "markdown",
   "metadata": {},
   "source": []
  },
  {
   "cell_type": "code",
   "execution_count": 14,
   "metadata": {},
   "outputs": [
    {
     "name": "stderr",
     "output_type": "stream",
     "text": [
      "2024-05-12 18:47:08.767776: I external/local_xla/xla/stream_executor/cuda/cuda_executor.cc:984] could not open file to read NUMA node: /sys/bus/pci/devices/0000:01:00.0/numa_node\n",
      "Your kernel may have been built without NUMA support.\n",
      "2024-05-12 18:47:08.768057: W tensorflow/core/common_runtime/gpu/gpu_device.cc:2251] Cannot dlopen some GPU libraries. Please make sure the missing libraries mentioned above are installed properly if you would like to use GPU. Follow the guide at https://www.tensorflow.org/install/gpu for how to download and setup the required libraries for your platform.\n",
      "Skipping registering GPU devices...\n"
     ]
    }
   ],
   "source": [
    "# Сбросим стандартный стек графа\n",
    "tf.compat.v1.reset_default_graph()\n",
    "\n",
    "# Обучение модели для CNN\n",
    "cnn_model = tf.keras.Sequential([\n",
    "    # Слой Input определяет форму входных данных.\n",
    "    tf.keras.layers.Input(shape=(28, 28, 1)),\n",
    "    # Первый сверточный слой с 32 фильтрами, ядром - 3х3 с сохранение размера выхода и функцией активайии ReLu\n",
    "    tf.keras.layers.Conv2D(32, (3,3), padding='same', activation=tf.nn.relu),\n",
    "    # Первый пуллинг слой с окном 2х2 для уменьшения размеров картинки в 2 раза (шаг - 2)\n",
    "    tf.keras.layers.MaxPooling2D((2, 2), strides=2),\n",
    "    # Второй сверточный слой с 64 фильтрами\n",
    "    tf.keras.layers.Conv2D(64, (3,3), padding='same', activation=tf.nn.relu),\n",
    "    # Второй пуллинг слой\n",
    "    tf.keras.layers.MaxPooling2D((2, 2), strides=2),\n",
    "    # Перевод в вектор\n",
    "    tf.keras.layers.Flatten(),\n",
    "    # Полносвязный слой с 10 узлами и функцией активации softmax для вероятностей классов\n",
    "    tf.keras.layers.Dense(10, activation=tf.nn.softmax)\n",
    "])"
   ]
  },
  {
   "cell_type": "code",
   "execution_count": 15,
   "metadata": {},
   "outputs": [
    {
     "data": {
      "text/html": [
       "<pre style=\"white-space:pre;overflow-x:auto;line-height:normal;font-family:Menlo,'DejaVu Sans Mono',consolas,'Courier New',monospace\"><span style=\"font-weight: bold\">Model: \"sequential\"</span>\n",
       "</pre>\n"
      ],
      "text/plain": [
       "\u001b[1mModel: \"sequential\"\u001b[0m\n"
      ]
     },
     "metadata": {},
     "output_type": "display_data"
    },
    {
     "data": {
      "text/html": [
       "<pre style=\"white-space:pre;overflow-x:auto;line-height:normal;font-family:Menlo,'DejaVu Sans Mono',consolas,'Courier New',monospace\">┏━━━━━━━━━━━━━━━━━━━━━━━━━━━━━━━━━┳━━━━━━━━━━━━━━━━━━━━━━━━┳━━━━━━━━━━━━━━━┓\n",
       "┃<span style=\"font-weight: bold\"> Layer (type)                    </span>┃<span style=\"font-weight: bold\"> Output Shape           </span>┃<span style=\"font-weight: bold\">       Param # </span>┃\n",
       "┡━━━━━━━━━━━━━━━━━━━━━━━━━━━━━━━━━╇━━━━━━━━━━━━━━━━━━━━━━━━╇━━━━━━━━━━━━━━━┩\n",
       "│ conv2d (<span style=\"color: #0087ff; text-decoration-color: #0087ff\">Conv2D</span>)                 │ (<span style=\"color: #00d7ff; text-decoration-color: #00d7ff\">None</span>, <span style=\"color: #00af00; text-decoration-color: #00af00\">28</span>, <span style=\"color: #00af00; text-decoration-color: #00af00\">28</span>, <span style=\"color: #00af00; text-decoration-color: #00af00\">32</span>)     │           <span style=\"color: #00af00; text-decoration-color: #00af00\">320</span> │\n",
       "├─────────────────────────────────┼────────────────────────┼───────────────┤\n",
       "│ max_pooling2d (<span style=\"color: #0087ff; text-decoration-color: #0087ff\">MaxPooling2D</span>)    │ (<span style=\"color: #00d7ff; text-decoration-color: #00d7ff\">None</span>, <span style=\"color: #00af00; text-decoration-color: #00af00\">14</span>, <span style=\"color: #00af00; text-decoration-color: #00af00\">14</span>, <span style=\"color: #00af00; text-decoration-color: #00af00\">32</span>)     │             <span style=\"color: #00af00; text-decoration-color: #00af00\">0</span> │\n",
       "├─────────────────────────────────┼────────────────────────┼───────────────┤\n",
       "│ conv2d_1 (<span style=\"color: #0087ff; text-decoration-color: #0087ff\">Conv2D</span>)               │ (<span style=\"color: #00d7ff; text-decoration-color: #00d7ff\">None</span>, <span style=\"color: #00af00; text-decoration-color: #00af00\">14</span>, <span style=\"color: #00af00; text-decoration-color: #00af00\">14</span>, <span style=\"color: #00af00; text-decoration-color: #00af00\">64</span>)     │        <span style=\"color: #00af00; text-decoration-color: #00af00\">18,496</span> │\n",
       "├─────────────────────────────────┼────────────────────────┼───────────────┤\n",
       "│ max_pooling2d_1 (<span style=\"color: #0087ff; text-decoration-color: #0087ff\">MaxPooling2D</span>)  │ (<span style=\"color: #00d7ff; text-decoration-color: #00d7ff\">None</span>, <span style=\"color: #00af00; text-decoration-color: #00af00\">7</span>, <span style=\"color: #00af00; text-decoration-color: #00af00\">7</span>, <span style=\"color: #00af00; text-decoration-color: #00af00\">64</span>)       │             <span style=\"color: #00af00; text-decoration-color: #00af00\">0</span> │\n",
       "├─────────────────────────────────┼────────────────────────┼───────────────┤\n",
       "│ flatten (<span style=\"color: #0087ff; text-decoration-color: #0087ff\">Flatten</span>)               │ (<span style=\"color: #00d7ff; text-decoration-color: #00d7ff\">None</span>, <span style=\"color: #00af00; text-decoration-color: #00af00\">3136</span>)           │             <span style=\"color: #00af00; text-decoration-color: #00af00\">0</span> │\n",
       "├─────────────────────────────────┼────────────────────────┼───────────────┤\n",
       "│ dense (<span style=\"color: #0087ff; text-decoration-color: #0087ff\">Dense</span>)                   │ (<span style=\"color: #00d7ff; text-decoration-color: #00d7ff\">None</span>, <span style=\"color: #00af00; text-decoration-color: #00af00\">10</span>)             │        <span style=\"color: #00af00; text-decoration-color: #00af00\">31,370</span> │\n",
       "└─────────────────────────────────┴────────────────────────┴───────────────┘\n",
       "</pre>\n"
      ],
      "text/plain": [
       "┏━━━━━━━━━━━━━━━━━━━━━━━━━━━━━━━━━┳━━━━━━━━━━━━━━━━━━━━━━━━┳━━━━━━━━━━━━━━━┓\n",
       "┃\u001b[1m \u001b[0m\u001b[1mLayer (type)                   \u001b[0m\u001b[1m \u001b[0m┃\u001b[1m \u001b[0m\u001b[1mOutput Shape          \u001b[0m\u001b[1m \u001b[0m┃\u001b[1m \u001b[0m\u001b[1m      Param #\u001b[0m\u001b[1m \u001b[0m┃\n",
       "┡━━━━━━━━━━━━━━━━━━━━━━━━━━━━━━━━━╇━━━━━━━━━━━━━━━━━━━━━━━━╇━━━━━━━━━━━━━━━┩\n",
       "│ conv2d (\u001b[38;5;33mConv2D\u001b[0m)                 │ (\u001b[38;5;45mNone\u001b[0m, \u001b[38;5;34m28\u001b[0m, \u001b[38;5;34m28\u001b[0m, \u001b[38;5;34m32\u001b[0m)     │           \u001b[38;5;34m320\u001b[0m │\n",
       "├─────────────────────────────────┼────────────────────────┼───────────────┤\n",
       "│ max_pooling2d (\u001b[38;5;33mMaxPooling2D\u001b[0m)    │ (\u001b[38;5;45mNone\u001b[0m, \u001b[38;5;34m14\u001b[0m, \u001b[38;5;34m14\u001b[0m, \u001b[38;5;34m32\u001b[0m)     │             \u001b[38;5;34m0\u001b[0m │\n",
       "├─────────────────────────────────┼────────────────────────┼───────────────┤\n",
       "│ conv2d_1 (\u001b[38;5;33mConv2D\u001b[0m)               │ (\u001b[38;5;45mNone\u001b[0m, \u001b[38;5;34m14\u001b[0m, \u001b[38;5;34m14\u001b[0m, \u001b[38;5;34m64\u001b[0m)     │        \u001b[38;5;34m18,496\u001b[0m │\n",
       "├─────────────────────────────────┼────────────────────────┼───────────────┤\n",
       "│ max_pooling2d_1 (\u001b[38;5;33mMaxPooling2D\u001b[0m)  │ (\u001b[38;5;45mNone\u001b[0m, \u001b[38;5;34m7\u001b[0m, \u001b[38;5;34m7\u001b[0m, \u001b[38;5;34m64\u001b[0m)       │             \u001b[38;5;34m0\u001b[0m │\n",
       "├─────────────────────────────────┼────────────────────────┼───────────────┤\n",
       "│ flatten (\u001b[38;5;33mFlatten\u001b[0m)               │ (\u001b[38;5;45mNone\u001b[0m, \u001b[38;5;34m3136\u001b[0m)           │             \u001b[38;5;34m0\u001b[0m │\n",
       "├─────────────────────────────────┼────────────────────────┼───────────────┤\n",
       "│ dense (\u001b[38;5;33mDense\u001b[0m)                   │ (\u001b[38;5;45mNone\u001b[0m, \u001b[38;5;34m10\u001b[0m)             │        \u001b[38;5;34m31,370\u001b[0m │\n",
       "└─────────────────────────────────┴────────────────────────┴───────────────┘\n"
      ]
     },
     "metadata": {},
     "output_type": "display_data"
    },
    {
     "data": {
      "text/html": [
       "<pre style=\"white-space:pre;overflow-x:auto;line-height:normal;font-family:Menlo,'DejaVu Sans Mono',consolas,'Courier New',monospace\"><span style=\"font-weight: bold\"> Total params: </span><span style=\"color: #00af00; text-decoration-color: #00af00\">50,186</span> (196.04 KB)\n",
       "</pre>\n"
      ],
      "text/plain": [
       "\u001b[1m Total params: \u001b[0m\u001b[38;5;34m50,186\u001b[0m (196.04 KB)\n"
      ]
     },
     "metadata": {},
     "output_type": "display_data"
    },
    {
     "data": {
      "text/html": [
       "<pre style=\"white-space:pre;overflow-x:auto;line-height:normal;font-family:Menlo,'DejaVu Sans Mono',consolas,'Courier New',monospace\"><span style=\"font-weight: bold\"> Trainable params: </span><span style=\"color: #00af00; text-decoration-color: #00af00\">50,186</span> (196.04 KB)\n",
       "</pre>\n"
      ],
      "text/plain": [
       "\u001b[1m Trainable params: \u001b[0m\u001b[38;5;34m50,186\u001b[0m (196.04 KB)\n"
      ]
     },
     "metadata": {},
     "output_type": "display_data"
    },
    {
     "data": {
      "text/html": [
       "<pre style=\"white-space:pre;overflow-x:auto;line-height:normal;font-family:Menlo,'DejaVu Sans Mono',consolas,'Courier New',monospace\"><span style=\"font-weight: bold\"> Non-trainable params: </span><span style=\"color: #00af00; text-decoration-color: #00af00\">0</span> (0.00 B)\n",
       "</pre>\n"
      ],
      "text/plain": [
       "\u001b[1m Non-trainable params: \u001b[0m\u001b[38;5;34m0\u001b[0m (0.00 B)\n"
      ]
     },
     "metadata": {},
     "output_type": "display_data"
    }
   ],
   "source": [
    "# Сводка модели\n",
    "cnn_model.summary()\n",
    "\n",
    "# Компилируем модель\n",
    "cnn_model.compile(\n",
    "    optimizer = 'adam',\n",
    "    # Использую SparseCategoricalCrossentropy так как классы представлены целыми числами\n",
    "    loss = tf.keras.losses.SparseCategoricalCrossentropy(),\n",
    "    metrics = ['accuracy'])"
   ]
  },
  {
   "cell_type": "code",
   "execution_count": 16,
   "metadata": {},
   "outputs": [],
   "source": [
    "# Снижаем скорость обучения, когда val_loss перестает улучшаться\n",
    "reduce_learning = ReduceLROnPlateau(\n",
    "    monitor='val_loss',\n",
    "    factor=0.2,\n",
    "    patience=2,\n",
    "    verbose=1,\n",
    "    mode='auto',\n",
    "    min_delta=0.0001,\n",
    "    cooldown=2,\n",
    "    min_lr=0)\n",
    "\n",
    "# Останавливаем обучение, когда val_loss перестает улучшаться\n",
    "eary_stopping = EarlyStopping(\n",
    "    monitor='val_loss',\n",
    "    min_delta=0,\n",
    "    patience=5,\n",
    "    verbose=1,\n",
    "    mode='auto')\n",
    "\n",
    "callbacks = [reduce_learning, eary_stopping]"
   ]
  },
  {
   "cell_type": "code",
   "execution_count": 17,
   "metadata": {},
   "outputs": [
    {
     "name": "stdout",
     "output_type": "stream",
     "text": [
      "Epoch 1/15\n"
     ]
    },
    {
     "name": "stderr",
     "output_type": "stream",
     "text": [
      "2024-05-12 18:47:08.912572: W external/local_tsl/tsl/framework/cpu_allocator_impl.cc:83] Allocation of 48090560 exceeds 10% of free system memory.\n"
     ]
    },
    {
     "name": "stdout",
     "output_type": "stream",
     "text": [
      "480/480 - 6s - 13ms/step - accuracy: 0.7744 - loss: 0.6154 - val_accuracy: 0.8357 - val_loss: 0.4693 - learning_rate: 0.0010\n",
      "Epoch 2/15\n",
      "480/480 - 5s - 11ms/step - accuracy: 0.8580 - loss: 0.3947 - val_accuracy: 0.8633 - val_loss: 0.3906 - learning_rate: 0.0010\n",
      "Epoch 3/15\n",
      "480/480 - 5s - 11ms/step - accuracy: 0.8741 - loss: 0.3474 - val_accuracy: 0.8820 - val_loss: 0.3375 - learning_rate: 0.0010\n",
      "Epoch 4/15\n",
      "480/480 - 5s - 10ms/step - accuracy: 0.8883 - loss: 0.3114 - val_accuracy: 0.8897 - val_loss: 0.3211 - learning_rate: 0.0010\n",
      "Epoch 5/15\n",
      "480/480 - 5s - 10ms/step - accuracy: 0.8996 - loss: 0.2803 - val_accuracy: 0.8879 - val_loss: 0.3322 - learning_rate: 0.0010\n",
      "Epoch 6/15\n",
      "480/480 - 5s - 10ms/step - accuracy: 0.9081 - loss: 0.2561 - val_accuracy: 0.8926 - val_loss: 0.2941 - learning_rate: 0.0010\n",
      "Epoch 7/15\n",
      "480/480 - 5s - 10ms/step - accuracy: 0.9117 - loss: 0.2397 - val_accuracy: 0.9020 - val_loss: 0.2861 - learning_rate: 0.0010\n",
      "Epoch 8/15\n",
      "480/480 - 5s - 11ms/step - accuracy: 0.9195 - loss: 0.2203 - val_accuracy: 0.9043 - val_loss: 0.2809 - learning_rate: 0.0010\n",
      "Epoch 9/15\n",
      "480/480 - 5s - 11ms/step - accuracy: 0.9261 - loss: 0.2034 - val_accuracy: 0.8914 - val_loss: 0.3050 - learning_rate: 0.0010\n",
      "Epoch 10/15\n",
      "\n",
      "Epoch 10: ReduceLROnPlateau reducing learning rate to 0.00020000000949949026.\n",
      "480/480 - 5s - 11ms/step - accuracy: 0.9343 - loss: 0.1819 - val_accuracy: 0.8985 - val_loss: 0.2836 - learning_rate: 0.0010\n",
      "Epoch 11/15\n",
      "480/480 - 5s - 11ms/step - accuracy: 0.9529 - loss: 0.1381 - val_accuracy: 0.9055 - val_loss: 0.2754 - learning_rate: 2.0000e-04\n",
      "Epoch 12/15\n",
      "480/480 - 5s - 11ms/step - accuracy: 0.9544 - loss: 0.1300 - val_accuracy: 0.9049 - val_loss: 0.2734 - learning_rate: 2.0000e-04\n",
      "Epoch 13/15\n",
      "480/480 - 5s - 11ms/step - accuracy: 0.9576 - loss: 0.1251 - val_accuracy: 0.9032 - val_loss: 0.2805 - learning_rate: 2.0000e-04\n",
      "Epoch 14/15\n",
      "\n",
      "Epoch 14: ReduceLROnPlateau reducing learning rate to 4.0000001899898055e-05.\n",
      "480/480 - 5s - 10ms/step - accuracy: 0.9594 - loss: 0.1215 - val_accuracy: 0.9038 - val_loss: 0.2811 - learning_rate: 2.0000e-04\n",
      "Epoch 15/15\n",
      "480/480 - 5s - 11ms/step - accuracy: 0.9639 - loss: 0.1101 - val_accuracy: 0.9061 - val_loss: 0.2780 - learning_rate: 4.0000e-05\n"
     ]
    }
   ],
   "source": [
    "# Обучение модели\n",
    "history = cnn_model.fit(\n",
    "    X_train, \n",
    "    y_train, \n",
    "    epochs = 15, \n",
    "    verbose=2, \n",
    "    validation_data=(X_test, y_test),\n",
    "    callbacks=callbacks)"
   ]
  },
  {
   "cell_type": "code",
   "execution_count": 23,
   "metadata": {},
   "outputs": [
    {
     "data": {
      "text/plain": [
       "Text(0.5, 1.0, 'Динамика Accuracy')"
      ]
     },
     "execution_count": 23,
     "metadata": {},
     "output_type": "execute_result"
    },
    {
     "data": {
      "image/png": "[encoded data removed]",
      "text/plain": [
       "<Figure size 1700x1700 with 2 Axes>"
      ]
     },
     "metadata": {},
     "output_type": "display_data"
    }
   ],
   "source": [
    "# Выводим график обучения модели\n",
    "plt.figure(figsize=(17,17))\n",
    "\n",
    "plt.subplot(2, 2, 1)\n",
    "plt.plot(history.history['loss'], label='Train Loss')\n",
    "plt.plot(history.history['val_loss'], label='Validation Loss')\n",
    "plt.legend()\n",
    "plt.title('Динамика функции потерь')\n",
    "\n",
    "plt.subplot(2, 2, 2)\n",
    "plt.plot(history.history['accuracy'], label='Accuracy')\n",
    "plt.plot(history.history['val_accuracy'], label='Validation Accuracy')\n",
    "plt.legend()\n",
    "plt.title('Динамика Accuracy')"
   ]
  },
  {
   "cell_type": "markdown",
   "metadata": {},
   "source": [
    "**Выводы:**\n",
    "    \n",
    "1) Как мы можем видить на графиках функция потерь уменьшается с каждой эпохой для тренировочного набора данных, в то время как на тестовом наборе начинает увеличиваться после 3 эпохи и снова снижаться после 6 эпохи.\n",
    "\n",
    "2) Подтверждение первому выводу, мы можем увидеть на втором графике - Accuracy для тренировчного увеличивается с каждой эпохой, в то время как на тестовом наборе данных начинает уменьшаться после 3 эпохи, с новым пиком после 6 эпохи\n",
    "\n",
    "3) Колебания графиков связаны с тем, что мы задавали изменения скорости обучения и шага при отсутсвии измений целевой метрики.\n"
   ]
  },
  {
   "cell_type": "code",
   "execution_count": 19,
   "metadata": {},
   "outputs": [
    {
     "name": "stdout",
     "output_type": "stream",
     "text": [
      "\u001b[1m313/313\u001b[0m \u001b[32m━━━━━━━━━━━━━━━━━━━━\u001b[0m\u001b[37m\u001b[0m \u001b[1m1s\u001b[0m 4ms/step\n"
     ]
    }
   ],
   "source": [
    "# Предсказывания для валидационного набора данных\n",
    "predictions = cnn_model.predict(val_cleaned)"
   ]
  },
  {
   "cell_type": "code",
   "execution_count": 20,
   "metadata": {},
   "outputs": [
    {
     "name": "stdout",
     "output_type": "stream",
     "text": [
      "   Id  label\n",
      "0   0      0\n",
      "1   1      1\n",
      "2   2      2\n",
      "3   3      6\n",
      "4   4      3\n"
     ]
    }
   ],
   "source": [
    "# Преобразуем вероятности в индексы классов с максимальной вероятностью\n",
    "predicted_labels = np.argmax(predictions, axis=1)\n",
    "\n",
    "# Преобразуем Series в DataFrame\n",
    "submission_df = sample_submission.to_frame(name='Id')\n",
    "\n",
    "# Добавляем столбец с предсказанными метками классов\n",
    "submission_df['label'] = predicted_labels\n",
    "\n",
    "# Проверяем результат\n",
    "print(submission_df.head())"
   ]
  },
  {
   "cell_type": "code",
   "execution_count": 21,
   "metadata": {},
   "outputs": [],
   "source": [
    "# Сохраняем результат в виде .csv\n",
    "submission_df.to_csv('sample_submission.csv', index=False)"
   ]
  },
  {
   "cell_type": "code",
   "execution_count": 22,
   "metadata": {},
   "outputs": [],
   "source": [
    "import zipfile\n",
    "\n",
    "# Создаем  ZIP-архив\n",
    "with zipfile.ZipFile('sample_submission.zip', 'w') as zipf:\n",
    "    zipf.write('sample_submission.csv', arcname='sample_submission.csv')"
   ]
  }
 ],
 "metadata": {
  "kernelspec": {
   "display_name": "dl",
   "language": "python",
   "name": "python3"
  },
  "language_info": {
   "codemirror_mode": {
    "name": "ipython",
    "version": 3
   },
   "file_extension": ".py",
   "mimetype": "text/x-python",
   "name": "python",
   "nbconvert_exporter": "python",
   "pygments_lexer": "ipython3",
   "version": "3.12.3"
  }
 },
 "nbformat": 4,
 "nbformat_minor": 2
}
